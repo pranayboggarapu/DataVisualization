{
 "cells": [
  {
   "cell_type": "code",
   "execution_count": 1,
   "id": "16cd4b76",
   "metadata": {},
   "outputs": [],
   "source": [
    "import sqlite3\n",
    "import pandas as pd\n",
    "import matplotlib.pyplot as plt\n",
    "from functools import reduce\n",
    "from scipy.spatial import distance"
   ]
  },
  {
   "cell_type": "code",
   "execution_count": 2,
   "id": "b25f8271",
   "metadata": {},
   "outputs": [],
   "source": [
    "db_filename = 'dinofunworld.db'\n",
    "#conn = sqlite3.connect(\"./readonly/{0}\".format(db_filename)) \n",
    "conn = sqlite3.connect(db_filename) \n",
    "c = conn.cursor()"
   ]
  },
  {
   "cell_type": "code",
   "execution_count": 3,
   "id": "3f0741b9",
   "metadata": {},
   "outputs": [],
   "source": [
    "def calculateDisSimilarity(firstSequenceSet, secondSequenceSet):\n",
    "    returnValue = []\n",
    "    return reduce(lambda a,b: a+b,\n",
    "                  [0 if firstRecord == secondRecord else 1 \n",
    "                       for firstRecord, secondRecord in zip(firstSequenceSet, secondSequenceSet)]\n",
    "                 )"
   ]
  },
  {
   "cell_type": "code",
   "execution_count": null,
   "id": "0eeef1f0",
   "metadata": {},
   "outputs": [],
   "source": []
  },
  {
   "cell_type": "code",
   "execution_count": 7,
   "id": "b1b827d8",
   "metadata": {},
   "outputs": [
    {
     "name": "stdout",
     "output_type": "stream",
     "text": [
      "                                               SequenceValue  \\\n",
      "VisitorID                                                      \n",
      "165316     0-0-0-0-0-0-0-0-0-0-0-0-0-0-0-0-0-0-0-0-0-0-0-...   \n",
      "296394     0-0-0-0-0-0-0-0-0-0-0-0-0-0-0-0-0-0-0-0-0-0-0-...   \n",
      "404385     0-0-0-0-0-0-0-0-0-0-0-0-0-0-0-0-0-0-0-0-0-0-0-...   \n",
      "448990     0-0-0-0-0-0-0-0-0-0-0-0-0-0-0-0-0-0-0-0-0-0-0-...   \n",
      "1835254    0-0-0-0-0-0-0-0-0-0-0-0-0-0-0-0-0-0-0-0-0-0-0-...   \n",
      "\n",
      "                                     convertedSequenceValues  \n",
      "VisitorID                                                     \n",
      "165316     [0, 0, 0, 0, 0, 0, 0, 0, 0, 0, 0, 0, 0, 0, 0, ...  \n",
      "296394     [0, 0, 0, 0, 0, 0, 0, 0, 0, 0, 0, 0, 0, 0, 0, ...  \n",
      "404385     [0, 0, 0, 0, 0, 0, 0, 0, 0, 0, 0, 0, 0, 0, 0, ...  \n",
      "448990     [0, 0, 0, 0, 0, 0, 0, 0, 0, 0, 0, 0, 0, 0, 0, ...  \n",
      "1835254    [0, 0, 0, 0, 0, 0, 0, 0, 0, 0, 0, 0, 0, 0, 0, ...  \n",
      "{165316: {296394: 318, 404385: 329, 448990: 318, 1835254: 336}, 296394: {165316: 318, 404385: 303, 448990: 0, 1835254: 282}, 404385: {165316: 329, 296394: 303, 448990: 303, 1835254: 298}, 448990: {165316: 318, 296394: 0, 404385: 303, 1835254: 282}, 1835254: {165316: 336, 296394: 282, 404385: 298, 448990: 282}}\n"
     ]
    }
   ],
   "source": [
    "visitorSequencesGiven = [165316, 1835254, 296394, 404385, 448990]\n",
    "visitorSequencesGivenString = list(map(str, visitorSequencesGiven))\n",
    "visitorSequenceInQuery = \",\".join(visitorSequencesGivenString)\n",
    "sequences = c.execute(\"SELECT visitorID,sequence FROM sequences WHERE visitorID IN ({0})\".format(visitorSequenceInQuery)).fetchall()\n",
    "sequencesDataFrame = pd.DataFrame.from_records(sequences, columns=['VisitorID','SequenceValue'], index='VisitorID')\n",
    "\n",
    "convertedValues = [list(map(int, x.split('-'))) for x in sequencesDataFrame.SequenceValue]\n",
    "sequencesDataFrame['convertedSequenceValues'] = convertedValues\n",
    "finalValues = {}\n",
    "print(sequencesDataFrame)\n",
    "for x,y in sequencesDataFrame.iterrows():\n",
    "    rowValues = {}\n",
    "    for a,b in sequencesDataFrame.iterrows():\n",
    "        if x != a:\n",
    "            rowValues[a] = calculateDisSimilarity(y['convertedSequenceValues'], b['convertedSequenceValues'])\n",
    "    finalValues[x] = rowValues\n",
    "\n",
    "print(finalValues)\n"
   ]
  },
  {
   "cell_type": "code",
   "execution_count": 5,
   "id": "250e36d3",
   "metadata": {},
   "outputs": [],
   "source": [
    "''' Queries the database for a specific category name in category \n",
    "    table and returns {name, attractionID} from each of the rows \n",
    "    satisfying condition. categoryName is filtered using %categoryName%'''\n",
    "def getRideAttractionIDsAndNames(categoryName):\n",
    "    return c.execute(\"SELECT Name, AttractionID FROM attraction WHERE Category like '%{0}%'\".format(categoryName)).fetchall()"
   ]
  },
  {
   "cell_type": "code",
   "execution_count": 6,
   "id": "09d12e18",
   "metadata": {},
   "outputs": [],
   "source": [
    "# Graded Cell, PartID: 8S2jm\n",
    "# Create and display a Parallel Coordinate Plot displaying the minimum, average, \n",
    "# and maximum attendance for each ride in the park (note that not all attractions\n",
    "# are rides).\n"
   ]
  }
 ],
 "metadata": {
  "kernelspec": {
   "display_name": "Python 3 (ipykernel)",
   "language": "python",
   "name": "python3"
  },
  "language_info": {
   "codemirror_mode": {
    "name": "ipython",
    "version": 3
   },
   "file_extension": ".py",
   "mimetype": "text/x-python",
   "name": "python",
   "nbconvert_exporter": "python",
   "pygments_lexer": "ipython3",
   "version": "3.9.6"
  }
 },
 "nbformat": 4,
 "nbformat_minor": 5
}
