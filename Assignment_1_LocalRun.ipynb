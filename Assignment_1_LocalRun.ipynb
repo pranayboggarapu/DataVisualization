{
 "cells": [
  {
   "cell_type": "code",
   "execution_count": 26,
   "id": "4c63b702",
   "metadata": {},
   "outputs": [],
   "source": [
    "import sqlite3"
   ]
  },
  {
   "cell_type": "code",
   "execution_count": 27,
   "id": "1272cf5b",
   "metadata": {},
   "outputs": [],
   "source": [
    "db_filename = 'dinofunworld.db'"
   ]
  },
  {
   "cell_type": "code",
   "execution_count": 28,
   "id": "fe2e47eb",
   "metadata": {},
   "outputs": [],
   "source": [
    "conn = sqlite3. connect(db_filename) \n",
    "conn.row_factory = lambda cursor, row: row[0]\n",
    "c = conn.cursor()\n",
    "ids = c.execute('SELECT AttractionID FROM attractions').fetchall()"
   ]
  },
  {
   "cell_type": "code",
   "execution_count": 29,
   "id": "5b5ffaa0",
   "metadata": {},
   "outputs": [
    {
     "name": "stdout",
     "output_type": "stream",
     "text": [
      "Atmosfear\n"
     ]
    }
   ],
   "source": [
    "# c.execute (\"SELECT attraction FROM checkin group by attraction ORDER BY count(*) DESC  LIMIT 1\")\n",
    "# attractionId = c.fetchall()[0][0]\n",
    "# c.execute (\"SELECT Name FROM attraction WHERE AttractionID = '{0}'\".format(attractionId))\n",
    "# print(c.fetchall()[0][0])\n"
   ]
  },
  {
   "cell_type": "code",
   "execution_count": null,
   "id": "c5795b5c",
   "metadata": {},
   "outputs": [],
   "source": [
    "# def get_sec(time_str):\n",
    "#     return (sum(int(actualSplitValue)* 60 ** iterationValue for iterationValue, actualSplitValue in enumerate(reversed(time_str.split(\":\")))))"
   ]
  },
  {
   "cell_type": "code",
   "execution_count": null,
   "id": "42ed452e",
   "metadata": {},
   "outputs": [],
   "source": [
    "# c.execute (\"SELECT  attraction, duration FROM checkin ORDER BY attraction\")\n",
    "# print(c.fetchall()[0][1])"
   ]
  }
 ],
 "metadata": {
  "kernelspec": {
   "display_name": "Python 3 (ipykernel)",
   "language": "python",
   "name": "python3"
  },
  "language_info": {
   "codemirror_mode": {
    "name": "ipython",
    "version": 3
   },
   "file_extension": ".py",
   "mimetype": "text/x-python",
   "name": "python",
   "nbconvert_exporter": "python",
   "pygments_lexer": "ipython3",
   "version": "3.8.9"
  }
 },
 "nbformat": 4,
 "nbformat_minor": 5
}
