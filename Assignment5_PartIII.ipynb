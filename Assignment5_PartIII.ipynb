{
 "cells": [
  {
   "cell_type": "code",
   "execution_count": 6,
   "id": "a313c4c7",
   "metadata": {},
   "outputs": [],
   "source": [
    "import pandas as pd\n",
    "import matplotlib.pyplot as plt\n",
    "import geopandas as gpd\n",
    "import libpysal\n",
    "import pysal"
   ]
  },
  {
   "cell_type": "code",
   "execution_count": 11,
   "id": "435f1eb3",
   "metadata": {},
   "outputs": [
    {
     "ename": "AttributeError",
     "evalue": "module 'libpysal' has no attribute 'Moran'",
     "output_type": "error",
     "traceback": [
      "\u001b[0;31m---------------------------------------------------------------------------\u001b[0m",
      "\u001b[0;31mAttributeError\u001b[0m                            Traceback (most recent call last)",
      "Input \u001b[0;32mIn [11]\u001b[0m, in \u001b[0;36m<module>\u001b[0;34m\u001b[0m\n\u001b[1;32m      6\u001b[0m y \u001b[38;5;241m=\u001b[39m pd\u001b[38;5;241m.\u001b[39mread_csv(libpysal\u001b[38;5;241m.\u001b[39mexamples\u001b[38;5;241m.\u001b[39mget_path(\u001b[38;5;124m'\u001b[39m\u001b[38;5;124musjoin.csv\u001b[39m\u001b[38;5;124m'\u001b[39m))[\u001b[38;5;124m'\u001b[39m\u001b[38;5;124m2009\u001b[39m\u001b[38;5;124m'\u001b[39m]\n\u001b[1;32m      7\u001b[0m w \u001b[38;5;241m=\u001b[39m libpysal\u001b[38;5;241m.\u001b[39mweights\u001b[38;5;241m.\u001b[39mRook\u001b[38;5;241m.\u001b[39mfrom_shapefile(libpysal\u001b[38;5;241m.\u001b[39mexamples\u001b[38;5;241m.\u001b[39mget_path(\u001b[38;5;124m'\u001b[39m\u001b[38;5;124mus48.shp\u001b[39m\u001b[38;5;124m'\u001b[39m))\n\u001b[0;32m----> 8\u001b[0m mi \u001b[38;5;241m=\u001b[39m \u001b[43mlibpysal\u001b[49m\u001b[38;5;241;43m.\u001b[39;49m\u001b[43mMoran\u001b[49m(y,w,two_tailed\u001b[38;5;241m=\u001b[39m\u001b[38;5;28;01mFalse\u001b[39;00m)\n\u001b[1;32m      9\u001b[0m \u001b[38;5;28mprint\u001b[39m(\u001b[38;5;28mround\u001b[39m(mi\u001b[38;5;241m.\u001b[39mI, \u001b[38;5;241m4\u001b[39m))\n",
      "\u001b[0;31mAttributeError\u001b[0m: module 'libpysal' has no attribute 'Moran'"
     ]
    }
   ],
   "source": [
    "# Part 3: Using the same data, compute the value of Moran's I for the per \n",
    "# capita income of each US state in 2009 using Rook Continuity. Report the \n",
    "# value of I rounded to 4 decimal places (i.e. x.XXXX)\n",
    "# Notes: Again, the PySal and GeoPandas libraries may contain useful utility\n",
    "# functions.\n",
    "y = pd.read_csv(libpysal.examples.get_path('usjoin.csv'))['2009']\n",
    "w = libpysal.weights.Rook.from_shapefile(libpysal.examples.get_path('us48.shp'))\n",
    "mi = libpysal.Moran(y,w,two_tailed=False)\n",
    "print(round(mi.I, 4))"
   ]
  }
 ],
 "metadata": {
  "kernelspec": {
   "display_name": "Python 3 (ipykernel)",
   "language": "python",
   "name": "python3"
  },
  "language_info": {
   "codemirror_mode": {
    "name": "ipython",
    "version": 3
   },
   "file_extension": ".py",
   "mimetype": "text/x-python",
   "name": "python",
   "nbconvert_exporter": "python",
   "pygments_lexer": "ipython3",
   "version": "3.9.6"
  }
 },
 "nbformat": 4,
 "nbformat_minor": 5
}
