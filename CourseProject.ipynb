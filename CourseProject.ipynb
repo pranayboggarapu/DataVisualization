{
 "cells": [
  {
   "cell_type": "code",
   "execution_count": 314,
   "id": "aa8317a3",
   "metadata": {},
   "outputs": [],
   "source": [
    "import sqlite3\n",
    "import pandas as pd\n",
    "import matplotlib.pyplot as plt\n",
    "from functools import reduce\n",
    "import numpy as np\n",
    "from enum import Enum"
   ]
  },
  {
   "cell_type": "code",
   "execution_count": 315,
   "id": "c067a984",
   "metadata": {},
   "outputs": [
    {
     "name": "stdout",
     "output_type": "stream",
     "text": [
      "Age                                              32\n",
      "WorkClass                                   Private\n",
      "Final Weight                                 205019\n",
      "Education                                Assoc-acdm\n",
      "Education-Num                                    12\n",
      "Marital-Status                        Never-married\n",
      "Occupation                                    Sales\n",
      "Relationship                          Not-in-family\n",
      "Race                                          Black\n",
      "Sex                                            Male\n",
      "Capital-Gain                                      0\n",
      "Capital-Loss                                      0\n",
      "Hours Per Week                                   50\n",
      "Country of Origin                     United-States\n",
      "Salary Figure                                 <=50K\n",
      "Is Salary More than Fifty Thousand            False\n",
      "Is Salary Less than Fifty Thousand             True\n",
      "Name: 13, dtype: object\n"
     ]
    }
   ],
   "source": [
    "# reading data\n",
    "#db available at https://archive.ics.uci.edu/ml/machine-learning-databases/adult/\n",
    "db_filename = 'adult.data'\n",
    "\n",
    "# to ensure that we don't hardcode the filter values.\n",
    "class FilterValuesEnum(Enum):\n",
    "    NotApplicableValue=\"?\"\n",
    "    LessThanFiftySalaryString=\"<=50K\"\n",
    "    MoreThanFiftySalaryString=\">50K\"\n",
    "    ColumnSeperatorValue=\",\"\n",
    "\n",
    "#to ensure we don't make any mistakes while using column names\n",
    "# More info about column names in https://archive.ics.uci.edu/ml/machine-learning-databases/adult/adult.names\n",
    "class ColumnNames(Enum):\n",
    "    Age='Age'\n",
    "    WorkClass='WorkClass'\n",
    "    FinalWeight='Final Weight'\n",
    "    Education='Education'\n",
    "    EducationNum='Education-Num'\n",
    "    MaritalStatus='Marital-Status'\n",
    "    Occupation='Occupation'\n",
    "    Relationship='Relationship'\n",
    "    Race='Race'\n",
    "    Sex='Sex'\n",
    "    CapitalGain='Capital-Gain'\n",
    "    CapitalLoss='Capital-Loss'\n",
    "    HoursPerWeek='Hours Per Week'\n",
    "    CountryOfOrigin='Country of Origin'\n",
    "    SalaryFigure='Salary Figure'\n",
    "    SalaryMoreThanFifty='Is Salary More than Fifty Thousand'\n",
    "    SalaryLessThanFifty='Is Salary Less than Fifty Thousand'\n",
    "\n",
    "column_Names = [columnName.value for columnName in ColumnNames]\n",
    "missing_values = [FilterValuesEnum.NotApplicableValue.value]\n",
    "actualDataFrame = pd.read_csv(db_filename, sep=FilterValuesEnum.ColumnSeperatorValue.value, names=column_Names, na_values=missing_values, skipinitialspace = True)\n",
    "actualDataFrame[ColumnNames.SalaryLessThanFifty.value] = actualDataFrame[ColumnNames.SalaryFigure.value] == FilterValuesEnum.LessThanFiftySalaryString.value\n",
    "actualDataFrame[ColumnNames.SalaryMoreThanFifty.value] = actualDataFrame[ColumnNames.SalaryFigure.value] == FilterValuesEnum.MoreThanFiftySalaryString.value\n",
    "print(actualDataFrame.loc[13])"
   ]
  },
  {
   "cell_type": "code",
   "execution_count": 316,
   "id": "e0c4264d",
   "metadata": {},
   "outputs": [
    {
     "name": "stdout",
     "output_type": "stream",
     "text": [
      "Age                                                   40\n",
      "WorkClass                                        Private\n",
      "Final Weight                                      121772\n",
      "Education                                      Assoc-voc\n",
      "Education-Num                                         11\n",
      "Marital-Status                        Married-civ-spouse\n",
      "Occupation                                  Craft-repair\n",
      "Relationship                                     Husband\n",
      "Race                                  Asian-Pac-Islander\n",
      "Sex                                                 Male\n",
      "Capital-Gain                                           0\n",
      "Capital-Loss                                           0\n",
      "Hours Per Week                                        40\n",
      "Country of Origin                                    NaN\n",
      "Salary Figure                                       >50K\n",
      "Is Salary More than Fifty Thousand                  True\n",
      "Is Salary Less than Fifty Thousand                 False\n",
      "Name: 14, dtype: object\n"
     ]
    }
   ],
   "source": [
    "# Inferring which columns have ?, NAN values\n",
    "print(actualDataFrame.loc[14])\n",
    "# print(actualDataFrame['Salary Figure'][0])\n",
    "# print(type(actualDataFrame['Salary Figure'][0]))\n",
    "# print(actualDataFrame['Salary Figure'] == ' <=50K')\n",
    "#print('?' in actualDataFrame.loc[27]['WorkClass'])\n",
    "#print(actualDataFrame['WorkClass'].str[1].contains(' \\?'))\n",
    "#questionValue = actualDataFrame['WorkClass']\n",
    "#print((actualDataFrame['WorkClass'] != ' ?'))\n",
    "#print(len(list(filter(lambda x: x == False, questionValue))))\n",
    "#.str.contains('?')\n",
    "#print(questionValue)\n",
    "#print(questionValue.str[0])\n",
    "# questionFrame = actualDataFrame['WorkClass'].str.replace(\" \",\"\").str.contains('?')\n",
    "# trueList = list(filter(lambda x: x == True, questionFrame))\n",
    "#print(len(trueList))\n",
    "#print(actualDataFrame.loc[[2,3]])\n",
    "#print(actualDataFrame.tail())\n",
    "#print(actualDataFrame.head())\n",
    "# print(actualDataFrame.loc[[0]])\n",
    "# print(actualDataFrame.loc[0][2])\n",
    "# print(type(actualDataFrame['WorkClass'][0]))\n",
    "# print(actualDataFrame['WorkClass'])\n",
    "#print(actualDataFrame.loc[actualDataFrame['WorkClass']])\n",
    "# slt = actualDataFrame['WorkClass'].str == '?'\n",
    "# print(slt)\n",
    "#print(actualDataFrame['WorkClass'].isnull())\n",
    "# for indexValue, individualColumn in enumerate(column_Names):\n",
    "#     print(\"index value: + {1} + {0}\".format(type(actualDataFrame.loc[0][individualColumn]), str(indexValue)))\n",
    "#     #print(individualColumn)\n",
    "    #print(actualDataFrame[individualColumn])\n",
    "    #print(actualDataFrame.loc[actualDataFrame[individualColumn] == '?'])\n",
    "#    print(type(actualDataFrame[[0]])\n",
    "#     doesUnknowValuesExistForThisColumn = (actualDataFrame.loc[actualDataFrame[individualColumn].str.contains(pat = '*?*', regex = True)]).empty\n",
    "#     if not doesUnknowValuesExistForThisColumn:\n",
    "#         print('{0} has empty values'.format(individualColumn))"
   ]
  },
  {
   "cell_type": "code",
   "execution_count": 318,
   "id": "7b163b72",
   "metadata": {},
   "outputs": [
    {
     "name": "stdout",
     "output_type": "stream",
     "text": [
      "0         True\n",
      "1         True\n",
      "2        False\n",
      "3        False\n",
      "4         True\n",
      "         ...  \n",
      "32556    False\n",
      "32557    False\n",
      "32558    False\n",
      "32559    False\n",
      "32560    False\n",
      "Name: Education, Length: 32561, dtype: bool\n"
     ]
    }
   ],
   "source": [
    "#print(actualDataFrame[['Education', 'SalaryLessThanFifty', 'SalaryMoreThanFifty']])\n",
    "#print(actualDataFrame['Education']=='Bachelors')"
   ]
  }
 ],
 "metadata": {
  "kernelspec": {
   "display_name": "Python 3 (ipykernel)",
   "language": "python",
   "name": "python3"
  },
  "language_info": {
   "codemirror_mode": {
    "name": "ipython",
    "version": 3
   },
   "file_extension": ".py",
   "mimetype": "text/x-python",
   "name": "python",
   "nbconvert_exporter": "python",
   "pygments_lexer": "ipython3",
   "version": "3.9.6"
  }
 },
 "nbformat": 4,
 "nbformat_minor": 5
}
