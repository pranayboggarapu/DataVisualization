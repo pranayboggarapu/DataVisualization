{
 "cells": [
  {
   "cell_type": "markdown",
   "metadata": {},
   "source": [
    "# Assignment 1: Dino Fun World\n",
    "\n",
    "### Assignment Description\n",
    "\n",
    "You, in your role as a data explorer and visualizer, have been asked by the administrators of a small amusement park in your hometown to answer a few questions about their park operations. The dataset that they provided for you to perform the requested analysis includes the movement and communication data captured from the park attendees' apps during one weekend (Friday, Saturday, and Sunday).\n",
    "\n",
    "The administrators would like you to answer four relatively simple questions about the park activities on the day in question. These questions all deal with park operations and can be answered using the data provided.\n",
    "\n",
    "Question 1: What is the most popular attraction to visit in the park?\n",
    "\n",
    "Question 2: What ride (note that not all attractions are rides) has the longest average visit time?\n",
    "\n",
    "Question 3: Which Fast Food offering has the fewest visitors?\n",
    "\n",
    "Question 4: Compute the Skyline of number of visits and visit time for the park's ride, and report the rides that appear in the Skyline. (Note: Your answer should be three points, which can be given in any order.)\n",
    "\n",
    "\n",
    "### Directions\n",
    "\n",
    "The database provided by the park administration is formatted to be readable by any SQL database library. The course staff recommends the sqlite3 library. The database contains three tables, named 'checkin', 'attractions', and 'sequences'. The database file is named 'dinofunworld.db' and is available in the read only directory of the Jupyter Notebook environment (i.e., readonly/dinofunworld.db). It can also be accessed by selecting File > Open > dinofunworld.db.\n",
    "\n",
    "The information contained in each of these tables is listed below:\n",
    "\n",
    "`checkin`:\n",
    "    - The check-in data for all visitors for the day in the park. The data includes two types of check-ins: inferred and actual checkins.\n",
    "    - Fields: visitorID, timestamp, attraction, duration, type\n",
    "`attraction`:\n",
    "    - The attractions in the park by their corresponding AttractionID, Name, Region, Category, and type. Regions are from the VAST Challenge map such as Coaster Alley, Tundra Land, etc. Categories include Thrill rides, Kiddie Rides, etc. Type is broken into Outdoor Coaster, Other Ride, Carousel, etc.\n",
    "    - Fields: AttractionID, Name, Region, Category, type\n",
    "`sequences`:\n",
    "    - The check-in sequences of visitors. These sequences list the position of each visitor to the park every five minutes. If the visitor has not entered the part yet, the sequence has a value of 0 for that time interval. If the visitor is in the park, the sequence lists the attraction they have most recently checked in to until they check in to a new one or leave the park.\n",
    "    - Fields: visitorID, sequence\n",
    "    \n",
    "Using the provided data, answer the four questions that the administrators have asked.\n",
    "\n",
    "### Submission Directions for Assignment Deliverables\n",
    "\n",
    "This assignment will be auto-graded. We recommend that you use Jupyter Notebook in your browser to complete and submit this assignment. In order for your answers to be correctly registered in the system, you must place the code for your answers in the cell indicated for each question. In addition, you should submit the assignment with the output of the code in the cell's display area. The display area should contain only your answer to the question with no extraneous information, or else the answer may not be picked up correctly. \n",
    "\n",
    "Each cell that is going to be graded has a set of comment lines at the beginning of the cell. These lines are extremely important and must not be modified or removed. (Graded Cell and PartID comments must be in the same line for proper execution of code.)\n",
    "\n",
    "Please execute each cell in Jupyter Notebook before submitting.\n",
    "\n",
    "If you choose to download the file and work on your assignment locally, you can also upload your file to each part in the programming assignment submission space. The file you submit should be named \"Assignment_1.ipynb\".\n",
    "\n",
    "### Evaluation\n",
    "\n",
    "There are four parts in the grading, and each part has one test case where the total number of points for all parts is 4. If some part of your data is incorrect, you will get a partial score of 0.25 or 0.50. If the submission fails, we will return the corresponding error messages. If the submission is correct, you will see \"Correct\" with 1.0 point for each part."
   ]
  },
  {
   "cell_type": "code",
   "execution_count": 91,
   "metadata": {},
   "outputs": [],
   "source": [
    "import sqlite3\n",
    "import matplotlib\n",
    "from functools import reduce\n",
    "db_filename = 'dinofunworld.db'\n",
    "conn = sqlite3.connect(db_filename) \n",
    "c = conn.cursor()"
   ]
  },
  {
   "cell_type": "code",
   "execution_count": 92,
   "metadata": {
    "scrolled": false
   },
   "outputs": [
    {
     "name": "stdout",
     "output_type": "stream",
     "text": [
      "Atmosfear\n"
     ]
    }
   ],
   "source": [
    "# Graded Cell, PartID: NDnou\n",
    "# Question 1: What is the most popular attraction to visit in the park?\n",
    "# Notes: Your output should be the name of the attraction.\n",
    "c.execute (\"SELECT attraction FROM checkin group by attraction ORDER BY count(*) DESC  LIMIT 1\")\n",
    "attractionId = c.fetchall()[0][0]\n",
    "c.execute (\"SELECT Name FROM attraction WHERE AttractionID = '{0}'\".format(attractionId))\n",
    "print(c.fetchall()[0][0])"
   ]
  },
  {
   "cell_type": "code",
   "execution_count": 93,
   "metadata": {},
   "outputs": [],
   "source": [
    "def get_sec(time_str):\n",
    "    return (sum(int(actualSplitValue)* 60 ** iterationValue for iterationValue, actualSplitValue in enumerate(reversed(time_str.split(\":\")))))"
   ]
  },
  {
   "cell_type": "code",
   "execution_count": 94,
   "metadata": {},
   "outputs": [
    {
     "name": "stdout",
     "output_type": "stream",
     "text": [
      "Flight of the Swingodon\n"
     ]
    }
   ],
   "source": [
    "# Graded Cell, PartID: FXGHp\n",
    "# Question 2: What ride (note that not all attractions are rides) has the longest average visit time?\n",
    "# Notes: Your output should be the name of the ride.\n",
    "d = conn.cursor()\n",
    "d.row_factory = lambda cursor, row: row[0]\n",
    "d.execute(\"SELECT DISTINCT(attraction) FROM checkin WHERE attraction IN (SELECT AttractionID from attraction WHERE Category like '%Ride%') ORDER BY attraction\")\n",
    "allAttractions = d.fetchall()\n",
    "attractionTimingsDict = {}\n",
    "for eachAttraction in allAttractions:\n",
    "    allTimingsForAnAttraction = d.execute(\"SELECT COUNT(visitorID) FROM checkin WHERE attraction = '{0}'\".format(eachAttraction)).fetchall()\n",
    "    convertedAllTimingsForAnAttraction = map(lambda x: get_sec(x), allTimingsForAnAttraction)\n",
    "    summedTimingsForAnAttraction = reduce(lambda a,b: a+b, convertedAllTimingsForAnAttraction)\n",
    "    attractionTimingsDict.update([(eachAttraction, summedTimingsForAnAttraction/len(allTimingsForAnAttraction))])\n",
    "sortedAttractionTimings = sorted(attractionTimingsDict.items(), key=lambda x: x[1], reverse=True)\n",
    "d.execute (\"SELECT Name FROM attraction WHERE AttractionID = '{0}'\".format(sortedAttractionTimings[1][0]))\n",
    "print(d.fetchall()[0])"
   ]
  },
  {
   "cell_type": "code",
   "execution_count": 95,
   "metadata": {},
   "outputs": [
    {
     "name": "stdout",
     "output_type": "stream",
     "text": [
      "Flying TyrAndrienkos\n"
     ]
    }
   ],
   "source": [
    "# Graded Cell, PartID: KALua\n",
    "# Question 3: Which Fast Food offering in the park has the fewest visitors?\n",
    "# Notes: Your output should be the name of the fast food offering.\n",
    "d.execute(\"SELECT DISTINCT(attraction) FROM checkin WHERE attraction IN (SELECT AttractionID from attraction WHERE Category like '%Food%') ORDER BY attraction\")\n",
    "allFoodAttractions = d.fetchall()\n",
    "foodAttractionTimingsDict = {}\n",
    "for eachAttraction in allAttractions:\n",
    "    allVisitorsForFoodAttraction = d.execute(\"SELECT COUNT(DISTINCT(visitorID)) FROM checkin WHERE attraction = '{0}'\".format(eachAttraction)).fetchall()\n",
    "    foodAttractionTimingsDict.update([(eachAttraction, allVisitorsForFoodAttraction)])\n",
    "sortedAttractionTimings = sorted(foodAttractionTimingsDict.items(), key=lambda x: x[1])\n",
    "d.execute (\"SELECT Name FROM attraction WHERE AttractionID = '{0}'\".format(sortedAttractionTimings[0][0]))\n",
    "print(d.fetchall()[0])"
   ]
  },
  {
   "cell_type": "code",
   "execution_count": 105,
   "metadata": {},
   "outputs": [],
   "source": [
    "import pandas as pd\n",
    "\n",
    "def count_diffs(a, b, min_criteria, max_criteria):\n",
    "    worseCriteriaCount = 0\n",
    "    bestCriteriaCount = 0\n",
    "    \n",
    "    # in case where you are looking for minimum criteria let's say distance/price, it is best if a<b.\n",
    "    for f in min_criteria:\n",
    "        bestCriteriaCount += a[f] < b[f]\n",
    "        worseCriteriaCount += a[f] > b[f]\n",
    "    \n",
    "    # in case where you are looking for maximum criteria let's say number of visitors visiting a ride, it is best if a>b.\n",
    "    for f in max_criteria:\n",
    "        bestCriteriaCount += a[f] > b[f]\n",
    "        worseCriteriaCount += a[f] < b[f]\n",
    "        \n",
    "    return bestCriteriaCount, worseCriteriaCount"
   ]
  },
  {
   "cell_type": "code",
   "execution_count": 106,
   "metadata": {},
   "outputs": [],
   "source": [
    "def find_skyline_using_bnlAlgorithm(df, min_criteria, max_criteria):\n",
    "    \"\"\" Finds skyline using Block nested loops algorithm \"\"\"\n",
    "    rows = df.to_dict(orient='index')\n",
    "    # Standard format of rows in rows variable will be\n",
    "    # {0: {'visitors': 18700, 'timings': 4.9946796222717245}, 1: {'visitors': 18717, 'timings': 3.6079002081859963}}\n",
    "    \n",
    "    # Use the first row to initialize the skyline\n",
    "    skyline = {df.index[0]}\n",
    "    \n",
    "    for i in df.index[1:]:\n",
    "        to_drop = set()\n",
    "        is_dominated = False\n",
    "        \n",
    "        for j in skyline:\n",
    "            betterValue, worseValue = count_diffs(rows[i], rows[j], min_criteria, max_criteria)\n",
    "            \n",
    "            if worseValue > 0 and betterValue == 0:\n",
    "                is_dominated = True\n",
    "                break\n",
    "                \n",
    "            if betterValue > 0 and worseValue == 0: \n",
    "                to_drop.add(j)\n",
    "\n",
    "        if is_dominated:\n",
    "            continue\n",
    "            \n",
    "        skyline = skyline.difference(to_drop)\n",
    "        skyline.add(i)\n",
    "    return pd.Series(df.index.isin(skyline), index=df.index)"
   ]
  },
  {
   "cell_type": "code",
   "execution_count": 126,
   "metadata": {},
   "outputs": [
    {
     "name": "stdout",
     "output_type": "stream",
     "text": [
      "1      True\n",
      "2      True\n",
      "3     False\n",
      "4     False\n",
      "5     False\n",
      "6      True\n",
      "7     False\n",
      "8      True\n",
      "9     False\n",
      "10    False\n",
      "11    False\n",
      "12    False\n",
      "13    False\n",
      "14    False\n",
      "15    False\n",
      "16    False\n",
      "17    False\n",
      "18    False\n",
      "19    False\n",
      "20    False\n",
      "21    False\n",
      "22    False\n",
      "23    False\n",
      "24    False\n",
      "25    False\n",
      "26    False\n",
      "27    False\n",
      "28    False\n",
      "29     True\n",
      "30    False\n",
      "31    False\n",
      "81    False\n",
      "dtype: bool\n",
      "[18700, 18717, 18694, 14415, 15577, 18792, 16024, 27747, 3597, 3759, 4062, 3640, 3747, 3963, 3747, 3925, 3922, 4022, 3877, 5240, 5552, 5271, 4935, 5349, 5549, 5669, 5042, 5082, 5608, 25074, 5608, 16093]\n",
      "[269.4764705882353, 288.3975523728089, 856.5660104846474, 2800.744915665996, 2396.0994798021966, 385.8590664750652, 2344.322284644195, 676.0011172378996, 1883.4325842696628, 702.9249800478851, 687.4773510585918, 584.4076923076923, 362.2017614091273, 521.0100933636135, 357.7950863930885, 339.2163057324841, 338.76746557878636, 375.15340626553956, 355.0430745421718, 1833.7862464183381, 880.7433357348704, 496.6306203756403, 453.04626623376623, 638.2984293193717, 513.085647313379, 600.8749338507673, 505.4664815549385, 467.8127584170112, 254.20470756062767, 1236.0283169582235, 677.9253571428571, 2554.466911079351]\n",
      "Wrightiraptor Mountain\n",
      "Galactosaurus Rage\n",
      "Keimosaurus Big Spin\n"
     ]
    },
    {
     "data": {
      "text/plain": [
       "Text(0.5, 1.0, 'Visitors and timings')"
      ]
     },
     "execution_count": 126,
     "metadata": {},
     "output_type": "execute_result"
    },
    {
     "data": {
      "image/png": "[encoded data removed]",
      "text/plain": [
       "<Figure size 432x288 with 1 Axes>"
      ]
     },
     "metadata": {
      "needs_background": "light"
     },
     "output_type": "display_data"
    }
   ],
   "source": [
    "# Graded Cell, PartID: B0LUP\n",
    "# Question 4: Compute the Skyline of number of visits and visit time for the park's ride and \n",
    "#  report the rides that appear in the Skyline. \n",
    "# Notes: Remember that in this case, higher visits is better and lower visit times are better. \n",
    "#  Your output should be formatted as an array listing the names of the rides in the Skyline.\n",
    "\n",
    "e = conn.cursor()\n",
    "e.row_factory = lambda cursor, row: row[0]\n",
    "e.execute(\"SELECT DISTINCT(attraction) FROM checkin WHERE attraction IN (SELECT AttractionID from attraction WHERE Category like '%Ride%') ORDER BY attraction\")\n",
    "allRideAttractions = e.fetchall()\n",
    "allRideAttractionTimingsDict = {}\n",
    "allRideAttractionVisitorsDict = {}\n",
    "for eachAttraction in allRideAttractions:\n",
    "    allRideTimingsForAnAttraction = e.execute(\"SELECT duration FROM checkin WHERE attraction = '{0}' AND duration IS NOT NULL\".format(eachAttraction)).fetchall()\n",
    "    allVisitorsForRideAttraction = e.execute(\"SELECT COUNT(visitorID) FROM checkin WHERE attraction = '{0}'\".format(eachAttraction)).fetchall()\n",
    "    convertedAllRideTimingsForAnAttraction = map(lambda x: get_sec(x), allRideTimingsForAnAttraction)\n",
    "    summedTimingsForARideAttraction = reduce(lambda a,b: ((a+b)), convertedAllRideTimingsForAnAttraction)\n",
    "    allRideAttractionTimingsDict.update([(eachAttraction, summedTimingsForARideAttraction/len(allRideTimingsForAnAttraction))])\n",
    "    allRideAttractionVisitorsDict.update([(eachAttraction, allVisitorsForRideAttraction)])\n",
    "sortedRideAttractionTimings = sorted(allRideAttractionTimingsDict.items(), key=lambda x: x[0])\n",
    "sortedRideAttractionVisitors = sorted(allRideAttractionVisitorsDict.items(), key=lambda x: x[0])\n",
    "specificVisitors = list(map(lambda a : a[1][0], sortedRideAttractionVisitors))\n",
    "specificTimings = list(map(lambda a : a[1], sortedRideAttractionTimings))\n",
    "specificAttractions = list(map(lambda a : a[0], sortedRideAttractionTimings))\n",
    "dataFrame = pd.DataFrame({\n",
    "    'attractionIds': specificAttractions,\n",
    "    'visitors': specificVisitors,\n",
    "    'timings': specificTimings,\n",
    "})\n",
    "#print(specificAttractions)\n",
    "#dataFrame.sample(10)\n",
    "skyline = find_skyline_using_bnlAlgorithm(dataFrame, [\"timings\"], [\"visitors\"])\n",
    "#print(type(skyline))\n",
    "skyline.index = specificAttractions\n",
    "print(skyline)\n",
    "print(specificVisitors)\n",
    "print(specificTimings)\n",
    "skyLineList = []\n",
    "count = 1\n",
    "for indexValue, individualValue in skyline.items():\n",
    "    if individualValue == True and count <= 3:\n",
    "        print(e.execute(\"SELECT Name FROM attraction WHERE AttractionID = '{0}'\".format(indexValue)).fetchall()[0])\n",
    "        count += 1\n",
    "    \n",
    "colors = skyline.map({True: 'C1', False: 'C0'})\n",
    "#print(type(colors))\n",
    "#ax = houses.plot.scatter(x='size', y='price', c=colors, alpha=0.8)\n",
    "#ax.set_title('Houses skyline')\n",
    "dy = dataFrame.plot.scatter(x='visitors', y='timings', c=colors, alpha=0.8)\n",
    "dy.set_title('Visitors and timings')\n",
    "\n",
    "# d.execute (\"SELECT Name FROM attraction WHERE AttractionID = '{0}'\".format(sortedAttractionTimings[1][0]))\n",
    "# print(d.fetchall()[0])"
   ]
  }
 ],
 "metadata": {
  "coursera": {
   "course_slug": "cse578",
   "graded_item_id": "ciN06",
   "launcher_item_id": "B127K"
  },
  "kernelspec": {
   "display_name": "Python 3 (ipykernel)",
   "language": "python",
   "name": "python3"
  },
  "language_info": {
   "codemirror_mode": {
    "name": "ipython",
    "version": 3
   },
   "file_extension": ".py",
   "mimetype": "text/x-python",
   "name": "python",
   "nbconvert_exporter": "python",
   "pygments_lexer": "ipython3",
   "version": "3.9.6"
  }
 },
 "nbformat": 4,
 "nbformat_minor": 2
}
